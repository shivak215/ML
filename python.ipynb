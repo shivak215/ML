{
  "cells": [
    {
      "metadata": {
        "_uuid": "809c712fd960f400976aab935a3a69d5acea144b"
      },
      "cell_type": "markdown",
      "source": "# A Short Tutorial on Python Basics"
    },
    {
      "metadata": {
        "_uuid": "968fdb41407c4008145a4374398ec599efd13865"
      },
      "cell_type": "markdown",
      "source": "A SHIVA KRISHNA\n"
    },
    {
      "metadata": {
        "_uuid": "4f8c92c28aa2d9ec9a6046cac162c4106828cbe5"
      },
      "cell_type": "markdown",
      "source": "# Operators"
    },
    {
      "metadata": {
        "trusted": true,
        "_uuid": "2a76cfef6694f165e27fedfb211dd80b0695770f"
      },
      "cell_type": "code",
      "source": "x = 5\nprint(x)\nprint(type(x))",
      "execution_count": null,
      "outputs": []
    },
    {
      "metadata": {
        "trusted": false,
        "_uuid": "a6f9fe935ec7dd667bdfdadf70a44bfb4fef9db1"
      },
      "cell_type": "code",
      "source": "y = 2.6\nprint(type(y))",
      "execution_count": null,
      "outputs": []
    },
    {
      "metadata": {
        "trusted": false,
        "_uuid": "59a49459d74e9a4a089d1050603a07d42e81d666"
      },
      "cell_type": "code",
      "source": "print(x+1)",
      "execution_count": null,
      "outputs": []
    },
    {
      "metadata": {
        "trusted": false,
        "_uuid": "df3cb7b513ff77cc3a845f54625f9557671d2c7b"
      },
      "cell_type": "code",
      "source": "print(x*2)",
      "execution_count": null,
      "outputs": []
    },
    {
      "metadata": {
        "trusted": false,
        "_uuid": "735b0fd148501f4b432ca766f9ef4083ac979ee8"
      },
      "cell_type": "code",
      "source": "print(x/2)",
      "execution_count": null,
      "outputs": []
    },
    {
      "metadata": {
        "trusted": false,
        "_uuid": "14d4ad06456572db64e3b1b628f1fff9408febac"
      },
      "cell_type": "code",
      "source": "print(x**2)",
      "execution_count": null,
      "outputs": []
    },
    {
      "metadata": {
        "trusted": false,
        "_uuid": "1f46ea7ec8d20903af5be2c3a3957bcbf25c8307"
      },
      "cell_type": "code",
      "source": "x+=1\nprint(x)",
      "execution_count": null,
      "outputs": []
    },
    {
      "metadata": {
        "trusted": false,
        "_uuid": "54c6779671993126d20f32f144aa24e755001926"
      },
      "cell_type": "code",
      "source": "x *= 2\nprint(x)",
      "execution_count": null,
      "outputs": []
    },
    {
      "metadata": {
        "trusted": false,
        "_uuid": "189f61d6b81d7a1cbf213b4835b9538f42cb15fa"
      },
      "cell_type": "code",
      "source": "print(x/5)",
      "execution_count": null,
      "outputs": []
    },
    {
      "metadata": {
        "trusted": false,
        "_uuid": "d4c7cd3e462f7bd17ccdc4a33c8675dc60a4eb76"
      },
      "cell_type": "code",
      "source": "remainder  = 11 % 3\nprint(remainder)",
      "execution_count": null,
      "outputs": []
    },
    {
      "metadata": {
        "trusted": false,
        "_uuid": "10edec7575317a855306cc19146720eb5eba2b96"
      },
      "cell_type": "code",
      "source": "print(y, y+1, y-2, y*2, y**2, y/5)",
      "execution_count": null,
      "outputs": []
    },
    {
      "metadata": {
        "trusted": true,
        "_uuid": "609d14141cdcde56b60c66c9a8ff01803964d3ea"
      },
      "cell_type": "code",
      "source": "",
      "execution_count": null,
      "outputs": []
    },
    {
      "metadata": {
        "_uuid": "dbde4c0f8a9fdf8a713beaf3ada45b55dc78f27b"
      },
      "cell_type": "markdown",
      "source": "# Boolean"
    },
    {
      "metadata": {
        "trusted": false,
        "_uuid": "25840df7ed9fdae57006f4f88df48ff40501bdeb"
      },
      "cell_type": "code",
      "source": "t = True\nf = False\nprint(type(t),type(f))",
      "execution_count": null,
      "outputs": []
    },
    {
      "metadata": {
        "trusted": false,
        "_uuid": "7fddd4210755b1d467210fa8747759b45076ff6b"
      },
      "cell_type": "code",
      "source": "print(t and f)",
      "execution_count": null,
      "outputs": []
    },
    {
      "metadata": {
        "trusted": false,
        "_uuid": "e14b54df94139dca830120e3ce712138b86d102f"
      },
      "cell_type": "code",
      "source": "print(t and t)",
      "execution_count": null,
      "outputs": []
    },
    {
      "metadata": {
        "trusted": false,
        "_uuid": "57ca8862c039d87575cd6eba731332211cb9aa0d"
      },
      "cell_type": "code",
      "source": "print(t or f)",
      "execution_count": null,
      "outputs": []
    },
    {
      "metadata": {
        "trusted": false,
        "_uuid": "a0b33a504406df034aa54d7f4d9fe96bba5a908a"
      },
      "cell_type": "code",
      "source": "print(f or f)",
      "execution_count": null,
      "outputs": []
    },
    {
      "metadata": {
        "trusted": false,
        "_uuid": "f296ec794a1e1a2df495e394a8ca0021f73104a3"
      },
      "cell_type": "code",
      "source": "print(not f)",
      "execution_count": null,
      "outputs": []
    },
    {
      "metadata": {
        "trusted": false,
        "_uuid": "82e27eb1db71f4fa00a5385871afc01d86cd164f"
      },
      "cell_type": "code",
      "source": "print(t != f)",
      "execution_count": null,
      "outputs": []
    },
    {
      "metadata": {
        "trusted": false,
        "_uuid": "cfe4f79edc3fa64176218db272b2159724f9cf49"
      },
      "cell_type": "code",
      "source": "print(t != t)",
      "execution_count": null,
      "outputs": []
    },
    {
      "metadata": {
        "scrolled": true,
        "trusted": false,
        "_uuid": "7ec48e37f239519a2c9e06f8ef12e332e99abdd2"
      },
      "cell_type": "code",
      "source": "x, y = 4, 8\nprint(x == 4 and y == 8)\nprint(x == 2)\nprint(x < 4)\nprint(y > 4)\nprint(x!=4)",
      "execution_count": null,
      "outputs": []
    },
    {
      "metadata": {
        "_uuid": "48a4d0b8c80a6455c2f64ad2baf29f71f2405fa8"
      },
      "cell_type": "markdown",
      "source": "\n# Strings"
    },
    {
      "metadata": {
        "trusted": true,
        "_uuid": "e249aee4e121618c247dade8b475a81e83bdad49"
      },
      "cell_type": "code",
      "source": "hello = 'hello'\nworld = 'world'\nprint(hello, world)\nprint(len(hello), len(world))",
      "execution_count": null,
      "outputs": []
    },
    {
      "metadata": {
        "trusted": true,
        "_uuid": "e471c9bc27bf4c8fe3d28529d7f236e01958a053"
      },
      "cell_type": "code",
      "source": "hw = hello + ' ' + world\nprint(hw)",
      "execution_count": null,
      "outputs": []
    },
    {
      "metadata": {
        "trusted": true,
        "_uuid": "fe691b4927ae614da6e1a50e4e2bf7066287b9a8"
      },
      "cell_type": "code",
      "source": "w12 = '%s %s %d' % (hello, world, 12)\nprint(w12)",
      "execution_count": null,
      "outputs": []
    },
    {
      "metadata": {
        "trusted": true,
        "_uuid": "3f8acb54435f44d2e20934c4428c940f5ab9ffbd"
      },
      "cell_type": "code",
      "source": "h = 'hello world!'",
      "execution_count": null,
      "outputs": []
    },
    {
      "metadata": {
        "trusted": true,
        "_uuid": "51206601f0fca54b5ec64832d7bcb53788952aa6"
      },
      "cell_type": "code",
      "source": "print(h.capitalize())",
      "execution_count": null,
      "outputs": []
    },
    {
      "metadata": {
        "scrolled": true,
        "trusted": true,
        "_uuid": "bde3798a828878bb900a34210bd6985442648799"
      },
      "cell_type": "code",
      "source": "h = h.upper()\nprint(h)",
      "execution_count": null,
      "outputs": []
    },
    {
      "metadata": {
        "trusted": true,
        "_uuid": "3149e79b84a3adeeee45fb06492f16cd174a3620"
      },
      "cell_type": "code",
      "source": "h = h.lower()\nprint(h)",
      "execution_count": null,
      "outputs": []
    },
    {
      "metadata": {
        "trusted": true,
        "_uuid": "2b32e794e272d5896608ad7104858e42a229ee06"
      },
      "cell_type": "code",
      "source": "str1 = h\nprint(str1)",
      "execution_count": null,
      "outputs": []
    },
    {
      "metadata": {
        "trusted": true,
        "_uuid": "aa20a63c12c0522f028960aca3d6238e184e9b5d"
      },
      "cell_type": "code",
      "source": "print(str1.count('h'))\nprint(str1[::-1])\nprint(str1.endswith('!'))\nprint(str1[1:len(str1)])\nprint(str1.index('l'))",
      "execution_count": null,
      "outputs": []
    },
    {
      "metadata": {
        "trusted": true,
        "_uuid": "f028cb37cbf7b6df368e91dc3fedf3bb76d4b6e8"
      },
      "cell_type": "code",
      "source": "print(h.rjust(20))\nprint(h.ljust(-27))\nprint(h[:3])\nprint(h[:-1])\nprint(h[3:])\nprint(h[-1:])",
      "execution_count": null,
      "outputs": []
    },
    {
      "metadata": {
        "trusted": true,
        "_uuid": "d62f4879660d6549b9633898587cab54de33f571"
      },
      "cell_type": "code",
      "source": "print(h.center(7))",
      "execution_count": null,
      "outputs": []
    },
    {
      "metadata": {
        "trusted": false,
        "_uuid": "f60fae17a0c3c3d24de7a300f9e06cfdcfdc9861"
      },
      "cell_type": "code",
      "source": "print(h.replace('l','imb'))",
      "execution_count": null,
      "outputs": []
    },
    {
      "metadata": {
        "trusted": false,
        "_uuid": "6ba4f0bc0eb00a9ed981d289ce98c4bdbd6fc335"
      },
      "cell_type": "code",
      "source": "print('  world     is good'.strip()) # Strip leading and trailing whitespace",
      "execution_count": null,
      "outputs": []
    },
    {
      "metadata": {
        "trusted": false,
        "_uuid": "e3dcdeaa720d0f7757ee0bd827824a85f49a1fd4"
      },
      "cell_type": "code",
      "source": "print('  world     is good'.split())",
      "execution_count": null,
      "outputs": []
    },
    {
      "metadata": {
        "trusted": false,
        "_uuid": "576cd6ef232bcdd629d14a3fbe3871592d873855"
      },
      "cell_type": "code",
      "source": "print('  world     is good'.split(\"i\"))",
      "execution_count": null,
      "outputs": []
    },
    {
      "metadata": {
        "trusted": false,
        "_uuid": "8741c5fb44bbe372fe47bf2b8e36c9729b0328c3"
      },
      "cell_type": "code",
      "source": "sS = '  world is good   '\nprint(len(sS))\nnewS = sS.strip()\nprint(newS, len(newS)) \nspS = newS.split()\nprint(spS, spS[0])\nprint(type(spS))",
      "execution_count": null,
      "outputs": []
    },
    {
      "metadata": {
        "trusted": false,
        "_uuid": "9350f2ef94d7235fe109935cdcde28386af13c59"
      },
      "cell_type": "code",
      "source": "name  = 'Bikash'\nage = 32\nprint(('%s is %d year\\'s old') % (name, age))",
      "execution_count": null,
      "outputs": []
    },
    {
      "metadata": {
        "_uuid": "e1a3ac541775bd203a334384d4a0db82b4b37c11"
      },
      "cell_type": "markdown",
      "source": "# Conditional Statement"
    },
    {
      "metadata": {
        "trusted": false,
        "_uuid": "351dcf0def5aa2e2ba1c3454cd69092680d76db0"
      },
      "cell_type": "code",
      "source": "if x is not 3:\n    print('not 3')",
      "execution_count": null,
      "outputs": []
    },
    {
      "metadata": {
        "trusted": false,
        "_uuid": "536ef3444a4a28fbba2d295a5f389d505816db87"
      },
      "cell_type": "code",
      "source": "if x is 4:\n    print('Hmm')",
      "execution_count": null,
      "outputs": []
    },
    {
      "metadata": {
        "trusted": false,
        "_uuid": "b05ed814866ae8d40d0cb646699d41ec96453f51"
      },
      "cell_type": "code",
      "source": "name = 'Bikash'\nage = 32\nif name == 'Bikash' and age == 32:\n    print('%s  %d year\\'s old' % (name, age))\nelse:\n    print('Shit!')",
      "execution_count": null,
      "outputs": []
    },
    {
      "metadata": {
        "trusted": false,
        "_uuid": "a27ecd0b2de5adc2d8b41352bc3874f5bb4a8ebc"
      },
      "cell_type": "code",
      "source": "if name in ['Bikash', 'Akash']:\n    print('%s' % name)",
      "execution_count": null,
      "outputs": []
    },
    {
      "metadata": {
        "trusted": false,
        "_uuid": "c6793c79ed04fde5c94d243e635b421b46a74702"
      },
      "cell_type": "code",
      "source": "if name == 'Bikash' and age == 31:\n    print('Good')\nelif age == 33:\n    print('Average')\nelse:\n    print('Bad')",
      "execution_count": null,
      "outputs": []
    },
    {
      "metadata": {
        "trusted": false,
        "_uuid": "5729d0879d0f60ae13275a1f7e082a5c0da353fe"
      },
      "cell_type": "code",
      "source": "mystring = 'Bikash'\nmyfloat = 10.00\nmyint = 20\n\n# testing code\nif mystring != \"hello\":\n    print(\"String: %s\" % mystring)\nif isinstance(myfloat, float) and myfloat == 10.0:\n    print(\"Float: %f\" % myfloat)\nif isinstance(myint, int) and myint == 20:\n    print(\"Integer: %d\" % myint)",
      "execution_count": null,
      "outputs": []
    },
    {
      "metadata": {
        "_uuid": "24b4ec2f7e439432d8e33b0a11c01c414c8692ac"
      },
      "cell_type": "markdown",
      "source": "# Loop"
    },
    {
      "metadata": {
        "trusted": false,
        "_uuid": "084270161548bba3364ff873032eea135bc18d58"
      },
      "cell_type": "code",
      "source": "primes = [2,3,5,7];\nfor prime in primes:\n    print(prime)",
      "execution_count": null,
      "outputs": []
    },
    {
      "metadata": {
        "trusted": false,
        "_uuid": "21ef0d1b15857e6734704fe0ea95a8f302ef6944"
      },
      "cell_type": "code",
      "source": "for x in range(5):\n    print(x)",
      "execution_count": null,
      "outputs": []
    },
    {
      "metadata": {
        "trusted": false,
        "_uuid": "822b2304da11bdd327b7e4b9b7c6aa15f2d17b16"
      },
      "cell_type": "code",
      "source": "for x in range(3,4):\n    print(x)",
      "execution_count": null,
      "outputs": []
    },
    {
      "metadata": {
        "trusted": false,
        "_uuid": "1e9e4f60f7d6c3e616c7a1c53b634fa919725962"
      },
      "cell_type": "code",
      "source": "for x in range(3,12,2):\n    print(x)",
      "execution_count": null,
      "outputs": []
    },
    {
      "metadata": {
        "trusted": false,
        "_uuid": "fa543fc0bae8c96cbaa92cde2d8ed500208a4a29"
      },
      "cell_type": "code",
      "source": "for i in range(10,0,-1): #decreasing loop\n    print(i)",
      "execution_count": null,
      "outputs": []
    },
    {
      "metadata": {
        "trusted": false,
        "_uuid": "26a16f907241a9d2f6e6cb96c0fc3aa60f0491ca"
      },
      "cell_type": "code",
      "source": "count = 0\nwhile count < 5:\n    print(count)\n    count += 1",
      "execution_count": null,
      "outputs": []
    },
    {
      "metadata": {
        "trusted": false,
        "_uuid": "9a4faa49ffe16ead36dde58274d74837fdbfe76e"
      },
      "cell_type": "code",
      "source": "# Prints out 0,1,2,3,4\n\ncount = 0\nwhile True:\n    print(count)\n    count += 1\n    if count >= 5:\n        break\n    else:\n        continue\n\n# Prints out only odd numbers - 1,3,5,7,9\nfor x in range(10):\n    # Check if x is even\n    if x % 2 == 0:\n        continue\n    \n    print(x)",
      "execution_count": null,
      "outputs": []
    },
    {
      "metadata": {
        "trusted": false,
        "_uuid": "59309a25a36bcd10c98dff10393be762478ea43d"
      },
      "cell_type": "code",
      "source": "# Prints out 0,1,2,3,4 and then it prints \"count value reached 5\"\n\ncount=0\nwhile(count<5):\n    print(count)\n    count +=1\nelse:\n    print(\"count value reached %d\" %(count))\n\n# Prints out 1,2,3,4\nfor i in range(1, 10):\n    print(i)\nelse:\n    print(\"this is not printed because for loop is terminated because of break but not due to fail in condition\")",
      "execution_count": null,
      "outputs": []
    },
    {
      "metadata": {
        "trusted": false,
        "_uuid": "6a7e01431ed4387f23cacfc541b979e45d0efa94"
      },
      "cell_type": "code",
      "source": "# Prints out 0,1,2,3,4\n\ncount = 0\nwhile True:\n    print(count)\n    count += 1\n    if count >= 5:\n        break\n\n# Prints out only odd numbers - 1,3,5,7,9\nfor x in range(10):\n    # Check if x is even\n    if x % 2 == 0:\n        continue\n    print(x)",
      "execution_count": null,
      "outputs": []
    },
    {
      "metadata": {
        "trusted": false,
        "_uuid": "90f105281faed7ef4a48b9de839c277104c2ffb9"
      },
      "cell_type": "code",
      "source": "numbers = [\n    951, 402, 984, 651, 360, 69, 408, 319, 601, 485, 980, 507, 725, 547, 544,\n    615, 83, 165, 141, 501, 263, 617, 865, 575, 219, 390, 984, 592, 236, 105, 942, 941,\n    386, 462, 47, 418, 907, 344, 236, 375, 823, 566, 597, 978, 328, 615, 953, 345,\n    399, 162, 758, 219, 918, 237, 412, 566, 826, 248, 866, 950, 626, 949, 687, 217,\n    815, 67, 104, 58, 512, 24, 892, 894, 767, 553, 81, 379, 843, 831, 445, 742, 717,\n    958, 609, 842, 451, 688, 753, 854, 685, 93, 857, 440, 380, 126, 721, 328, 753, 470,\n    743, 527\n]\nprint(len(numbers))\nfor x in numbers:\n    print(x)\n    if x%2 == 0:\n        print(x)\n    elif x == 237:\n        break\n    else:\n        continue\nelse:\n    print(\"It is done\")",
      "execution_count": null,
      "outputs": []
    },
    {
      "metadata": {
        "_uuid": "828ad03901bf17149dd77f0a1ab68eb04eeb1d00"
      },
      "cell_type": "markdown",
      "source": "# Containers"
    },
    {
      "metadata": {
        "_uuid": "f02d777cc94608e81a92d354ac48673de5c71e8e"
      },
      "cell_type": "markdown",
      "source": "### List [ ]"
    },
    {
      "metadata": {
        "trusted": false,
        "_uuid": "923a3cee215f58b61d3a5ca6e95b667bb8746b91"
      },
      "cell_type": "code",
      "source": "list1 = [1,2,3,4]\nprint(list1)",
      "execution_count": null,
      "outputs": []
    },
    {
      "metadata": {
        "trusted": false,
        "_uuid": "234de7fe320d67219ab096e1843abd82b4081f50"
      },
      "cell_type": "code",
      "source": "print(list1[0], list1[1], list1[2], list1[3])",
      "execution_count": null,
      "outputs": []
    },
    {
      "metadata": {
        "trusted": false,
        "_uuid": "8dbaf15fc1de00fd2f14c956a450f19b8ed93163"
      },
      "cell_type": "code",
      "source": "print(type(list1))",
      "execution_count": null,
      "outputs": []
    },
    {
      "metadata": {
        "trusted": false,
        "_uuid": "709c7a86ca5d3baa23b4960da0321899ee3b481e"
      },
      "cell_type": "code",
      "source": "print(list1[-1])",
      "execution_count": null,
      "outputs": []
    },
    {
      "metadata": {
        "trusted": false,
        "_uuid": "c171e931955ac7bd97d53c11b8d17265f0c9aa95"
      },
      "cell_type": "code",
      "source": "print(list1[-4])",
      "execution_count": null,
      "outputs": []
    },
    {
      "metadata": {
        "trusted": false,
        "_uuid": "4b1bd9744b8d3b8b00cc03d8a16e4faf7d9b5778"
      },
      "cell_type": "code",
      "source": "print(list1[-2])",
      "execution_count": null,
      "outputs": []
    },
    {
      "metadata": {
        "trusted": false,
        "_uuid": "ff6173129fd173c54ad479dff3a6370845399cd3"
      },
      "cell_type": "code",
      "source": "list1[3] = 'bikash'\nprint(list1)",
      "execution_count": null,
      "outputs": []
    },
    {
      "metadata": {
        "trusted": false,
        "_uuid": "cf82c182b3b8687171134cbb4f325f4b2eae3987"
      },
      "cell_type": "code",
      "source": "list1[4] = 'santra'",
      "execution_count": null,
      "outputs": []
    },
    {
      "metadata": {
        "trusted": false,
        "_uuid": "519fba5d4b0a9198f189bf5fec661dcda2f932cf"
      },
      "cell_type": "code",
      "source": "list1.append('santra')\nprint(list1)",
      "execution_count": null,
      "outputs": []
    },
    {
      "metadata": {
        "trusted": false,
        "_uuid": "0e47d09cbaa0118e452306fc2e848e2af229d59e"
      },
      "cell_type": "code",
      "source": "print(list1[2:4])",
      "execution_count": null,
      "outputs": []
    },
    {
      "metadata": {
        "trusted": false,
        "_uuid": "a3277a94ba7cd15bbd3dd2528643a08657bbf28f"
      },
      "cell_type": "code",
      "source": "last = list1.pop()\nprint(last, list1)",
      "execution_count": null,
      "outputs": []
    },
    {
      "metadata": {
        "trusted": false,
        "_uuid": "21cca08d2bc9d634f5632399813fe2d1f7b5af25"
      },
      "cell_type": "code",
      "source": "nums = list(range(0,10)) # last exclusive\nprint(nums)",
      "execution_count": null,
      "outputs": []
    },
    {
      "metadata": {
        "trusted": false,
        "_uuid": "3d5c14c39a72acf2719c6b29e53a74e4632616d4"
      },
      "cell_type": "code",
      "source": "print(nums[2:6]) # last exclusive",
      "execution_count": null,
      "outputs": []
    },
    {
      "metadata": {
        "trusted": false,
        "_uuid": "24c9e05ce2c66e0869fb109eeb3d23b07c826512"
      },
      "cell_type": "code",
      "source": "print(nums[3:])",
      "execution_count": null,
      "outputs": []
    },
    {
      "metadata": {
        "trusted": false,
        "_uuid": "70df8f914b54af9b2be017fb7f0b4cabc9503332"
      },
      "cell_type": "code",
      "source": "print(nums[:3])",
      "execution_count": null,
      "outputs": []
    },
    {
      "metadata": {
        "trusted": false,
        "_uuid": "4ed592019b84a019bb0d0c3dafbb18149b44485c"
      },
      "cell_type": "code",
      "source": "print(nums[:])",
      "execution_count": null,
      "outputs": []
    },
    {
      "metadata": {
        "trusted": false,
        "_uuid": "0065de0172b35239076c37228b50439aeb28b210"
      },
      "cell_type": "code",
      "source": "print(nums[-1])\nprint(nums[:-1]) # last exclusive",
      "execution_count": null,
      "outputs": []
    },
    {
      "metadata": {
        "trusted": false,
        "_uuid": "fe60e2323f08bde89a5c9785d77b45d7bcdef989"
      },
      "cell_type": "code",
      "source": "print(nums[:-2])",
      "execution_count": null,
      "outputs": []
    },
    {
      "metadata": {
        "trusted": false,
        "_uuid": "4364031385cf1c7fa4ff266d97950e6842940bd1"
      },
      "cell_type": "code",
      "source": "nums[2:4] = [11,12]\nprint(nums[2:8:2])",
      "execution_count": null,
      "outputs": []
    },
    {
      "metadata": {
        "trusted": false,
        "_uuid": "fbf016f4955ff548ef980501b3fc312924cbaf2b"
      },
      "cell_type": "code",
      "source": "print(nums)",
      "execution_count": null,
      "outputs": []
    },
    {
      "metadata": {
        "trusted": false,
        "_uuid": "8479abd7148026655f1d143b21267ad62d1d42e7"
      },
      "cell_type": "code",
      "source": "even = [2, 4, 6, 8]\nodd = [1, 3, 5, 7]\nallNum = even + odd\nprint(allNum, type(allNum))",
      "execution_count": null,
      "outputs": []
    },
    {
      "metadata": {
        "trusted": false,
        "_uuid": "4c58f8af396ca62ae5fd37af43079c40977c3493"
      },
      "cell_type": "code",
      "source": "print(even*3)",
      "execution_count": null,
      "outputs": []
    },
    {
      "metadata": {
        "trusted": false,
        "_uuid": "397002c93e3d52a09c406d5473a963affd301e8f"
      },
      "cell_type": "code",
      "source": "mlist = [1, 2, 3]\nprint('A list is %s %s' % (mlist,mlist))",
      "execution_count": null,
      "outputs": []
    },
    {
      "metadata": {
        "_uuid": "8c77f354ca8ab75f8226aedaa06f2d4c1508f615"
      },
      "cell_type": "markdown",
      "source": "### Loops in List"
    },
    {
      "metadata": {
        "trusted": false,
        "_uuid": "a07ec976baf265a8e8dcc285e721b1dbca36af6b"
      },
      "cell_type": "code",
      "source": "for i in range(100):\n    print(2**i)",
      "execution_count": null,
      "outputs": []
    },
    {
      "metadata": {
        "collapsed": true,
        "trusted": false,
        "_uuid": "efeb699ac4e39fe95069622ef5033faaf16b2278"
      },
      "cell_type": "code",
      "source": "animals = ['cat', 'dog', 'monkey']",
      "execution_count": null,
      "outputs": []
    },
    {
      "metadata": {
        "trusted": false,
        "_uuid": "cb1893d154ec7d23aafb8365fdc0c2908cbf6853"
      },
      "cell_type": "code",
      "source": "for animal in animals:\n    print(animal)",
      "execution_count": null,
      "outputs": []
    },
    {
      "metadata": {
        "trusted": false,
        "_uuid": "6462907faa64ef1eb791abe031fcb2c61c35c3f3"
      },
      "cell_type": "code",
      "source": "for animal in enumerate(animals):\n    print(animal)",
      "execution_count": null,
      "outputs": []
    },
    {
      "metadata": {
        "trusted": false,
        "_uuid": "17fde03554590327cafde5ccd30b70bd689ed8ee"
      },
      "cell_type": "code",
      "source": "for idx, animal in enumerate(animals):\n    print('#%d: %s' % (idx+1, animal))",
      "execution_count": null,
      "outputs": []
    },
    {
      "metadata": {
        "_uuid": "57dc6210984879ad7639b83c033c20b79db0ed7e"
      },
      "cell_type": "markdown",
      "source": "### List Comprehensions"
    },
    {
      "metadata": {
        "trusted": false,
        "_uuid": "7364ac9d6b4f78ab2b6282603c9329de936c7996"
      },
      "cell_type": "code",
      "source": "nums = list(range(5))\nprint(nums)",
      "execution_count": null,
      "outputs": []
    },
    {
      "metadata": {
        "trusted": false,
        "_uuid": "69640d7b27f23e20a27debcf23c0bbde5247a8af"
      },
      "cell_type": "code",
      "source": "squares = []\nfor x in nums:\n    squares.append(x**2)\nprint(squares)",
      "execution_count": null,
      "outputs": []
    },
    {
      "metadata": {
        "trusted": false,
        "_uuid": "5e9820f49ba519d2b4b85826f996b920ea72addd"
      },
      "cell_type": "code",
      "source": "print(len(squares))",
      "execution_count": null,
      "outputs": []
    },
    {
      "metadata": {
        "trusted": false,
        "_uuid": "1bc8dfe4ec5079a92b74ad98100be3dc7bfe694c"
      },
      "cell_type": "code",
      "source": "squares = [x**2 for x in nums] # Easy Approach\nprint(squares)",
      "execution_count": null,
      "outputs": []
    },
    {
      "metadata": {
        "trusted": false,
        "_uuid": "723b1d3a28a1da05788957534b530de8af799312"
      },
      "cell_type": "code",
      "source": "even_squares = [x**2 for x in nums if x % 2 == 0]\nprint(even_squares)",
      "execution_count": null,
      "outputs": []
    },
    {
      "metadata": {
        "trusted": false,
        "_uuid": "e24a5d041f26fea5890d31512f9f071c713a18dd"
      },
      "cell_type": "code",
      "source": "numbers = []\nstrings = []\nnames = [\"John\", \"Eric\", \"Jessica\"]\nproper_nouns = ['Bikash', 'Santra']\n\n# write your code here\nfor i in range(2,10):\n    numbers.append(i)\n    strings.append(raw_input('Enter a string - '))\n\n# this code should write out the filled arrays and the second name in the names list (Eric).\nprint(numbers)\nprint(strings)\nprint(\"The second name on the names list is %s %s\" % (proper_nouns[0], proper_nouns[1]))",
      "execution_count": null,
      "outputs": []
    },
    {
      "metadata": {
        "_uuid": "a63d637b3947103da81a2168701e4798be2aa965"
      },
      "cell_type": "markdown",
      "source": "### Dictionaries (Key, Value)"
    },
    {
      "metadata": {
        "collapsed": true,
        "trusted": false,
        "_uuid": "1db03a8042211a8ef89226acbd8bb7cc00c0a4de"
      },
      "cell_type": "code",
      "source": "d = {'cat': 'cute', 'rat': 'bustard', 'frog': 'messy'}",
      "execution_count": null,
      "outputs": []
    },
    {
      "metadata": {
        "trusted": false,
        "_uuid": "4988c2ad4467ae278412f80dac998a2f06c47518"
      },
      "cell_type": "code",
      "source": "print(d['cat'])",
      "execution_count": null,
      "outputs": []
    },
    {
      "metadata": {
        "trusted": false,
        "_uuid": "5ae2610f92769f5250ee3c842724e562c7fb6ca5"
      },
      "cell_type": "code",
      "source": "print(d)",
      "execution_count": null,
      "outputs": []
    },
    {
      "metadata": {
        "trusted": false,
        "_uuid": "2cb145a72fe5879daf74bca21dfeb9776ec12d5d"
      },
      "cell_type": "code",
      "source": "for ind, key in enumerate(d):\n    print('#%d: %s' % (ind,key))",
      "execution_count": null,
      "outputs": []
    },
    {
      "metadata": {
        "trusted": false,
        "_uuid": "f19cdcd77037d6ce9e2ad96f9e879eee16f0fdb3"
      },
      "cell_type": "code",
      "source": "for key in d:\n    print(d[key])",
      "execution_count": null,
      "outputs": []
    },
    {
      "metadata": {
        "trusted": false,
        "_uuid": "f15c38aecb01625fed8f287a607108bb157ecc12"
      },
      "cell_type": "code",
      "source": "print('cat' in d)",
      "execution_count": null,
      "outputs": []
    },
    {
      "metadata": {
        "collapsed": true,
        "trusted": false,
        "_uuid": "36975f89a46eabc4338d195818d77329c63232c8"
      },
      "cell_type": "code",
      "source": "d['fish'] = 'wet'",
      "execution_count": null,
      "outputs": []
    },
    {
      "metadata": {
        "trusted": false,
        "_uuid": "76c681b10d8a90485ac757b45442dd118de685ff"
      },
      "cell_type": "code",
      "source": "print(d['fish'])",
      "execution_count": null,
      "outputs": []
    },
    {
      "metadata": {
        "trusted": false,
        "_uuid": "1a6bd1bf9e2f2eb99ca2343bc96e885eb5427783"
      },
      "cell_type": "code",
      "source": "print(d.get('monkey'))",
      "execution_count": null,
      "outputs": []
    },
    {
      "metadata": {
        "trusted": false,
        "_uuid": "a274bfc4950070026b0b32690d5719e699f39b0e"
      },
      "cell_type": "code",
      "source": "print(d.get('monkey', 'N/A')) # Default if not found",
      "execution_count": null,
      "outputs": []
    },
    {
      "metadata": {
        "trusted": false,
        "_uuid": "8c5273716d29a912f5cd266db959b6f39d7f65df"
      },
      "cell_type": "code",
      "source": "print(d.get('fish'))",
      "execution_count": null,
      "outputs": []
    },
    {
      "metadata": {
        "trusted": false,
        "_uuid": "39b5720cd8c1feac3c31de4fa8ba718d2da98697"
      },
      "cell_type": "code",
      "source": "print(d.get('fish', 'N/A')) # Default if not found",
      "execution_count": null,
      "outputs": []
    },
    {
      "metadata": {
        "collapsed": true,
        "trusted": false,
        "_uuid": "41d278d945bcbe2133b25d91fdada59c89f3f643"
      },
      "cell_type": "code",
      "source": "d['rat'] = 'funny'",
      "execution_count": null,
      "outputs": []
    },
    {
      "metadata": {
        "collapsed": true,
        "trusted": false,
        "_uuid": "bdbbacdfff8dfbb8740c379e8d7f961452dd3d12"
      },
      "cell_type": "code",
      "source": "del d[('fish')]",
      "execution_count": null,
      "outputs": []
    },
    {
      "metadata": {
        "trusted": false,
        "_uuid": "39d24285b143d29abebdbffe798cad088a9b5062"
      },
      "cell_type": "code",
      "source": "print(d.get('fish','N/A'))",
      "execution_count": null,
      "outputs": []
    },
    {
      "metadata": {
        "trusted": false,
        "_uuid": "dfb1dcbfefc9986a65f6d13f33123e22335f9277"
      },
      "cell_type": "code",
      "source": "phonebook = {\n   \"John\" : 938477566,\n   \"Jack\" : 938377264,\n   \"Jill\" : 947662781\n}\nprint(phonebook)",
      "execution_count": null,
      "outputs": []
    },
    {
      "metadata": {
        "trusted": false,
        "_uuid": "9f04760ceff9d3e0f3e49d72f059f005a74c7a27"
      },
      "cell_type": "code",
      "source": "del phonebook[\"John\"]\nprint(phonebook)",
      "execution_count": null,
      "outputs": []
    },
    {
      "metadata": {
        "trusted": false,
        "_uuid": "6abe76daa92ae15711b62e51f409e28f708f0982"
      },
      "cell_type": "code",
      "source": "phonebook = {\"John\" : 938477566,\"Jack\" : 938377264,\"Jill\" : 947662781}\nfor name, number in phonebook.items():\n    print(\"Phone number of %s is %d\" % (name, number))",
      "execution_count": null,
      "outputs": []
    },
    {
      "metadata": {
        "trusted": false,
        "_uuid": "a5421153908aa9929e5dee9ecce90495bb58844d"
      },
      "cell_type": "code",
      "source": "print(type(phonebook))",
      "execution_count": null,
      "outputs": []
    },
    {
      "metadata": {
        "_uuid": "ed71f83df4f1c9b78c196557141e0ea3ebec0ce5"
      },
      "cell_type": "markdown",
      "source": "### Loops in Dictionary"
    },
    {
      "metadata": {
        "collapsed": true,
        "trusted": false,
        "_uuid": "3d45e19398f6fe94574d597c145f6ca1aa4519cc"
      },
      "cell_type": "code",
      "source": "d = {'person': 2, 'cat': 4, 'spider': 8}",
      "execution_count": null,
      "outputs": []
    },
    {
      "metadata": {
        "trusted": false,
        "_uuid": "08da4983c5f74e15afa854acd9dd9942cc05c098"
      },
      "cell_type": "code",
      "source": "for animal in d:\n    legs = d[animal]\n    print('A %s has %d legs' % (animal, legs))",
      "execution_count": null,
      "outputs": []
    },
    {
      "metadata": {
        "_uuid": "fe2c1276a7166bccf86b14f7c89606aca5d71fac"
      },
      "cell_type": "markdown",
      "source": "### Dictionary comprehensions"
    },
    {
      "metadata": {
        "trusted": false,
        "_uuid": "1079139490f34dda4717048a7f9da385b3c283e8"
      },
      "cell_type": "code",
      "source": "nums = list(range(0, 10))\nprint(nums)",
      "execution_count": null,
      "outputs": []
    },
    {
      "metadata": {
        "collapsed": true,
        "trusted": false,
        "_uuid": "420dc7ad8f092556f6cfc4baa18c555e1e55b74a"
      },
      "cell_type": "code",
      "source": "even_num_to_square = {x: x**2 for x in nums if x % 2 == 0}",
      "execution_count": null,
      "outputs": []
    },
    {
      "metadata": {
        "trusted": false,
        "_uuid": "3374b876370a934e56be933f4d4bf5878386b2e5"
      },
      "cell_type": "code",
      "source": "print(even_num_to_square) # Search how it works, sequence is not maintained",
      "execution_count": null,
      "outputs": []
    },
    {
      "metadata": {
        "_uuid": "b3055b2e34d341ae378b4f03d6ed7bd3b4f15c44"
      },
      "cell_type": "markdown",
      "source": "### Sets"
    },
    {
      "metadata": {
        "collapsed": true,
        "trusted": false,
        "_uuid": "68a4557f7973a4f0332838ce5ecd90c1a012825f"
      },
      "cell_type": "code",
      "source": "animals = {'cats', 'dogs'}",
      "execution_count": null,
      "outputs": []
    },
    {
      "metadata": {
        "trusted": false,
        "_uuid": "a65d14ea68e38963dd15b6e9a8c00f4e3ff29d17"
      },
      "cell_type": "code",
      "source": "print(animals)",
      "execution_count": null,
      "outputs": []
    },
    {
      "metadata": {
        "trusted": false,
        "_uuid": "00a706284125ef05ffc308fcb7ac95baf8db0604"
      },
      "cell_type": "code",
      "source": "animals = set(['cats', 'dogs']) # Alternate declairation\nprint(animals)",
      "execution_count": null,
      "outputs": []
    },
    {
      "metadata": {
        "trusted": false,
        "_uuid": "1c29436f96b77b0a1fa045fab83e99468321684f"
      },
      "cell_type": "code",
      "source": "print('cats' in animals)",
      "execution_count": null,
      "outputs": []
    },
    {
      "metadata": {
        "trusted": false,
        "_uuid": "e61fcb15f2c7081ea56a05c33bea13588b0791f9"
      },
      "cell_type": "code",
      "source": "print('rats' in animals)",
      "execution_count": null,
      "outputs": []
    },
    {
      "metadata": {
        "collapsed": true,
        "trusted": false,
        "_uuid": "d331b00004d9c15ac3e684a2b9658a83c92854ab"
      },
      "cell_type": "code",
      "source": "animals.add('rats')",
      "execution_count": null,
      "outputs": []
    },
    {
      "metadata": {
        "trusted": false,
        "_uuid": "e5c3f20d5f1620403a1c310c69916cba646e62f7"
      },
      "cell_type": "code",
      "source": "print('rats' in animals)",
      "execution_count": null,
      "outputs": []
    },
    {
      "metadata": {
        "trusted": false,
        "_uuid": "31a3c79ca769323c378528e2058641fd6726f4c8"
      },
      "cell_type": "code",
      "source": "print(len(animals))",
      "execution_count": null,
      "outputs": []
    },
    {
      "metadata": {
        "collapsed": true,
        "trusted": false,
        "_uuid": "e81f126a186971922da86c3fd822256887b03672"
      },
      "cell_type": "code",
      "source": "animals.remove('rats')",
      "execution_count": null,
      "outputs": []
    },
    {
      "metadata": {
        "trusted": false,
        "_uuid": "c0a2255d665f869c4e90b284f191936db117a335"
      },
      "cell_type": "code",
      "source": "print(len(animals))",
      "execution_count": null,
      "outputs": []
    },
    {
      "metadata": {
        "collapsed": true,
        "trusted": false,
        "_uuid": "7261363a5c26b049ad6625d595ac98a9de46ad5f"
      },
      "cell_type": "code",
      "source": "animals = {'cat','dog','rat'}",
      "execution_count": null,
      "outputs": []
    },
    {
      "metadata": {
        "trusted": false,
        "_uuid": "1c4a6942b78595881cb0d231543919fb89cadafd"
      },
      "cell_type": "code",
      "source": "for idx, animal in enumerate(animals):\n    print('#%d: %s' % (idx+1, animal))",
      "execution_count": null,
      "outputs": []
    },
    {
      "metadata": {
        "trusted": false,
        "_uuid": "a312f1ebb3f64836d629ad9c5c77a69ac9f8ffce"
      },
      "cell_type": "code",
      "source": "import math\nnums = {int(math.sqrt(x)) for x in range(30)}\nprint(nums)",
      "execution_count": null,
      "outputs": []
    },
    {
      "metadata": {
        "_uuid": "024f2f500fd5aadba6bd4c365d900df6d6a6f454"
      },
      "cell_type": "markdown",
      "source": "### Tuples"
    },
    {
      "metadata": {
        "trusted": false,
        "_uuid": "553f702e64e3dc825986456722dc56fcdfe9f5f3"
      },
      "cell_type": "code",
      "source": "d = {(x, x+1): x for x in range(10)}\nt = (2,3)\nprint (type(d))\nprint(type(t))\nprint(d)\nprint(list(t))",
      "execution_count": null,
      "outputs": []
    },
    {
      "metadata": {
        "trusted": false,
        "_uuid": "a233702f27b5d1924912d0fbc5f995c3c9b11b51"
      },
      "cell_type": "code",
      "source": "d[t] = 1000 \nprint(d)",
      "execution_count": null,
      "outputs": []
    },
    {
      "metadata": {
        "trusted": false,
        "_uuid": "d796066ee09330b1f09729bddc482f8e1a360806"
      },
      "cell_type": "code",
      "source": "for ind1,data in enumerate(d):\n    print('#%d: %s' % (ind1,data))",
      "execution_count": null,
      "outputs": []
    },
    {
      "metadata": {
        "_uuid": "db00881c2dd362eb98c72f9ed63960820686aee0"
      },
      "cell_type": "markdown",
      "source": "# Functions"
    },
    {
      "metadata": {
        "trusted": false,
        "_uuid": "a1e3c4e6ec7c7e009579373398882a5f1c309057"
      },
      "cell_type": "code",
      "source": "def sign(x):\n    if x > 0:\n        return 'positive'\n    elif x < 0:\n        return 'negative'\n    else:\n        return 'zero'\n\nfor x in [-1, 0, 1]:\n    print(sign(x))",
      "execution_count": null,
      "outputs": []
    },
    {
      "metadata": {
        "trusted": false,
        "_uuid": "52a2beebd0f2817bb0a50f54a28a05baff20aaf9"
      },
      "cell_type": "code",
      "source": "def hello(name, loud=False):\n    if loud:\n        print('HELLO, %s!' % name.upper())\n    else:\n        print('Hello, %s' % name)\n\nhello('Bob') # Prints \"Hello, Bob\"\nhello('Fred', loud=True)  # Prints \"HELLO, FRED!\"",
      "execution_count": null,
      "outputs": []
    },
    {
      "metadata": {
        "trusted": false,
        "_uuid": "1d3e983bb3530800cb6a69a13020d1ac6e156902"
      },
      "cell_type": "code",
      "source": "# Iterative version\n\ndef factorial(x):\n    fact = 1\n    for i in range(1,x+1):\n        fact *= i\n    return fact\nprint(factorial(3))",
      "execution_count": null,
      "outputs": []
    },
    {
      "metadata": {
        "trusted": false,
        "_uuid": "0d10beb900b41b259f0ca786989461635f10a8c3"
      },
      "cell_type": "code",
      "source": "# Recursive Function\n\ndef fact(n):\n    if n==0:\n        return(1)\n    else:\n        return(n*fact(n-1))\nprint(fact(5))",
      "execution_count": null,
      "outputs": []
    },
    {
      "metadata": {
        "trusted": false,
        "_uuid": "c4fa207a570d7b15dc83eb0ac25e538c1a0fd971"
      },
      "cell_type": "code",
      "source": "# Modify this function to return a list of strings as defined above\ndef list_benefits():\n    return ['More','More-More', 'Greater']\n\n# Modify this function to concatenate to each benefit - \" is a benefit of functions!\"\ndef build_sentence(benefit):\n    return benefit + ' effort is required.'\n\ndef name_the_benefits_of_functions():\n    list_of_benefits = list_benefits()\n    for benefit in list_of_benefits:\n        print(build_sentence(benefit))\n\nname_the_benefits_of_functions()",
      "execution_count": null,
      "outputs": []
    },
    {
      "metadata": {
        "_uuid": "4524d4f7c7d369cb67f16c86089af0bddbcfc172"
      },
      "cell_type": "markdown",
      "source": "# Classes"
    },
    {
      "metadata": {
        "trusted": false,
        "_uuid": "866eedece92cf12f2650c69a230ac64b1fc0663d"
      },
      "cell_type": "code",
      "source": "class Greeter(object):\n\n    # Constructor\n    def __init__(self, name):\n        self.name = name  # Create an instance variable\n\n    # Instance method\n    def greet(self, loud=False):\n        if loud:\n            print('HELLO, %s!' % self.name.upper())\n        else:\n            print('Hello, %s' % self.name)\n\ng = Greeter('Fred')  # Construct an instance of the Greeter class\ng.greet()            # Call an instance method; prints \"Hello, Fred\"\ng.greet(loud=True)   # Call an instance method; prints \"HELLO, FRED!\"",
      "execution_count": null,
      "outputs": []
    },
    {
      "metadata": {
        "trusted": false,
        "_uuid": "1d3a14a8db66541090dc779034afcbcb1141b148"
      },
      "cell_type": "code",
      "source": "class school(object):\n    def __init__(self,name):\n        self.name = name\n        \n    def candidate(self, x):\n        if x==5000:\n            print('%s is paid %d rupees' % (self.name,x))\n        else:\n            print('%s is paid %d rupees' % (self.name,x))\nstu = school('Bikash')\nstu.candidate(5000)",
      "execution_count": null,
      "outputs": []
    },
    {
      "metadata": {
        "trusted": false,
        "_uuid": "f933fd6ca42bd9724febc7291b20f1c7376862a6"
      },
      "cell_type": "code",
      "source": "class school():\n    def candidate(self):\n        print('is paid rupees')\n        \nstu = school()\nstu.candidate()",
      "execution_count": null,
      "outputs": []
    },
    {
      "metadata": {
        "trusted": false,
        "_uuid": "f81aa3cc0459eae631cb26b0bd6bdb9cb7325e6d"
      },
      "cell_type": "code",
      "source": "# define the Vehicle class\nclass Vehicle:\n    name = \"\"\n    kind = \"car\"\n    color = \"\"\n    value = 100.00\n    def description(self):\n        desc_str = \"%s is a %s %s worth $%.2f.\" % (self.name, self.color, self.kind, self.value)\n        return desc_str\n# your code goes here\ncar1 = Vehicle()\ncar2 = Vehicle()\ncar1.name = 'Benz'\ncar1.color = 'Red'\ncar2.name = 'BMW'\ncar2.color = 'Silver'\n\n# test code\nprint(car1.description())\nprint(car2.description())",
      "execution_count": null,
      "outputs": []
    }
  ],
  "metadata": {
    "kernelspec": {
      "display_name": "Python 3",
      "language": "python",
      "name": "python3"
    },
    "language_info": {
      "name": "python",
      "version": "3.6.6",
      "mimetype": "text/x-python",
      "codemirror_mode": {
        "name": "ipython",
        "version": 3
      },
      "pygments_lexer": "ipython3",
      "nbconvert_exporter": "python",
      "file_extension": ".py"
    }
  },
  "nbformat": 4,
  "nbformat_minor": 1
}